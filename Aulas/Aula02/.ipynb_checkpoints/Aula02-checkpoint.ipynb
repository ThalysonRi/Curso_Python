{
 "cells": [
  {
   "cell_type": "code",
   "execution_count": 6,
   "id": "de65ccfb",
   "metadata": {},
   "outputs": [
    {
     "name": "stdout",
     "output_type": "stream",
     "text": [
      "1.5\n"
     ]
    }
   ],
   "source": [
    "num=1;num=\"Bruno\";num=1.5\n",
    "print(num)"
   ]
  },
  {
   "cell_type": "markdown",
   "id": "19ecdd03",
   "metadata": {},
   "source": [
    "Comentários da aula:\n",
    "    * A quebra de comando do Python é o 'enter\", caso eu queira escrever dois comandos em uma linha é necessário utilizar o \";\"\n",
    "    * Quando der erro de variável definida, mas, não está definida, basta dar um \"espaço\" e salvar novamente"
   ]
  }
 ],
 "metadata": {
  "kernelspec": {
   "display_name": "Python 3 (ipykernel)",
   "language": "python",
   "name": "python3"
  },
  "language_info": {
   "codemirror_mode": {
    "name": "ipython",
    "version": 3
   },
   "file_extension": ".py",
   "mimetype": "text/x-python",
   "name": "python",
   "nbconvert_exporter": "python",
   "pygments_lexer": "ipython3",
   "version": "3.9.13"
  }
 },
 "nbformat": 4,
 "nbformat_minor": 5
}
