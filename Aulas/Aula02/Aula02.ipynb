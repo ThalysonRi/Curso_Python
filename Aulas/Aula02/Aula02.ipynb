{
 "cells": [
  {
   "cell_type": "code",
   "execution_count": 6,
   "id": "80cb5ba3",
   "metadata": {},
   "outputs": [
    {
     "name": "stdout",
     "output_type": "stream",
     "text": [
      "1.5\n"
     ]
    }
   ],
   "source": [
    "canal = \"CFB Cursos\"\n",
    "curso = \"Curso de Python\"\n",
    "print(canal + curso)"
   ]
  },
  {
   "cell_type": "markdown",
   "id": "b08caa64",
   "metadata": {},
   "source": [
    "Comentários da aula:\n",
    "    * A quebra de comando do Python é o 'enter\", caso eu queira escrever dois comandos em uma linha é necessário utilizar o \";\"\n",
    "    * Quando der erro de variável definida, mas, não está definida, basta dar um \"espaço\" e salvar novamente"
   ]
  }
 ],
 "metadata": {
  "kernelspec": {
   "display_name": "Python 3 (ipykernel)",
   "language": "python",
   "name": "python3"
  },
  "language_info": {
   "codemirror_mode": {
    "name": "ipython",
    "version": 3
   },
   "file_extension": ".py",
   "mimetype": "text/x-python",
   "name": "python",
   "nbconvert_exporter": "python",
   "pygments_lexer": "ipython3",
   "version": "3.9.13"
  }
 },
 "nbformat": 4,
 "nbformat_minor": 5
}
